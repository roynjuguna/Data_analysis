{
 "cells": [
  {
   "cell_type": "markdown",
   "metadata": {},
   "source": [
    "# Working on real- time project with python on \"India Census 2011\"\n",
    "## (A Part of big data analysis)\n",
    "---\n",
    "# INDIA CENSUS 2011 DATASET\n",
    "---\n",
    " This data is about total population, demography, literacy, districts, states, workers, religion, education, age.\n",
    "\n",
    " The data used here is of 2011 India Census of each district\n",
    "\n",
    " This data is available as a csv file from kaggle\n",
    "\n",
    " We will analyze this data using pandas\n",
    " "
   ]
  },
  {
   "cell_type": "code",
   "execution_count": 1,
   "metadata": {},
   "outputs": [
    {
     "ename": "ModuleNotFoundError",
     "evalue": "No module named 'pandas'",
     "output_type": "error",
     "traceback": [
      "\u001b[1;31m---------------------------------------------------------------------------\u001b[0m",
      "\u001b[1;31mModuleNotFoundError\u001b[0m                       Traceback (most recent call last)",
      "Cell \u001b[1;32mIn[1], line 1\u001b[0m\n\u001b[1;32m----> 1\u001b[0m \u001b[38;5;28;01mimport\u001b[39;00m \u001b[38;5;21;01mpandas\u001b[39;00m \u001b[38;5;28;01mas\u001b[39;00m \u001b[38;5;21;01mpd\u001b[39;00m\n",
      "\u001b[1;31mModuleNotFoundError\u001b[0m: No module named 'pandas'"
     ]
    }
   ],
   "source": [
    "import pandas as pd"
   ]
  },
  {
   "cell_type": "code",
   "execution_count": null,
   "metadata": {},
   "outputs": [],
   "source": [
    "data = pd.read_csv(r\"census_data.csv\")"
   ]
  },
  {
   "cell_type": "code",
   "execution_count": null,
   "metadata": {},
   "outputs": [
    {
     "data": {
      "text/html": [
       "<div>\n",
       "<style scoped>\n",
       "    .dataframe tbody tr th:only-of-type {\n",
       "        vertical-align: middle;\n",
       "    }\n",
       "\n",
       "    .dataframe tbody tr th {\n",
       "        vertical-align: top;\n",
       "    }\n",
       "\n",
       "    .dataframe thead th {\n",
       "        text-align: right;\n",
       "    }\n",
       "</style>\n",
       "<table border=\"1\" class=\"dataframe\">\n",
       "  <thead>\n",
       "    <tr style=\"text-align: right;\">\n",
       "      <th></th>\n",
       "      <th>District_code</th>\n",
       "      <th>State_name</th>\n",
       "      <th>District_name</th>\n",
       "      <th>Population</th>\n",
       "      <th>Male</th>\n",
       "      <th>Female</th>\n",
       "      <th>Literate</th>\n",
       "      <th>Workers</th>\n",
       "      <th>Male_Workers</th>\n",
       "      <th>Female_Workers</th>\n",
       "      <th>...</th>\n",
       "      <th>Christians</th>\n",
       "      <th>Sikhs</th>\n",
       "      <th>Buddhists</th>\n",
       "      <th>Jains</th>\n",
       "      <th>Secondary_Education</th>\n",
       "      <th>Higher_Education</th>\n",
       "      <th>Graduate_Education</th>\n",
       "      <th>Age_Group_0_29</th>\n",
       "      <th>Age_Group_30_49</th>\n",
       "      <th>Age_Group_50</th>\n",
       "    </tr>\n",
       "  </thead>\n",
       "  <tbody>\n",
       "    <tr>\n",
       "      <th>0</th>\n",
       "      <td>1</td>\n",
       "      <td>JAMMU AND KASHMIR</td>\n",
       "      <td>Kupwara</td>\n",
       "      <td>870354</td>\n",
       "      <td>474190</td>\n",
       "      <td>396164</td>\n",
       "      <td>439654</td>\n",
       "      <td>229064</td>\n",
       "      <td>190899</td>\n",
       "      <td>38165</td>\n",
       "      <td>...</td>\n",
       "      <td>1700</td>\n",
       "      <td>5600</td>\n",
       "      <td>66</td>\n",
       "      <td>39</td>\n",
       "      <td>74948</td>\n",
       "      <td>39709</td>\n",
       "      <td>21751</td>\n",
       "      <td>600759</td>\n",
       "      <td>178435</td>\n",
       "      <td>89679</td>\n",
       "    </tr>\n",
       "    <tr>\n",
       "      <th>1</th>\n",
       "      <td>2</td>\n",
       "      <td>JAMMU AND KASHMIR</td>\n",
       "      <td>Badgam</td>\n",
       "      <td>753745</td>\n",
       "      <td>398041</td>\n",
       "      <td>355704</td>\n",
       "      <td>335649</td>\n",
       "      <td>214866</td>\n",
       "      <td>162578</td>\n",
       "      <td>52288</td>\n",
       "      <td>...</td>\n",
       "      <td>1489</td>\n",
       "      <td>5559</td>\n",
       "      <td>47</td>\n",
       "      <td>6</td>\n",
       "      <td>66459</td>\n",
       "      <td>41367</td>\n",
       "      <td>27950</td>\n",
       "      <td>503223</td>\n",
       "      <td>160933</td>\n",
       "      <td>88978</td>\n",
       "    </tr>\n",
       "    <tr>\n",
       "      <th>2</th>\n",
       "      <td>3</td>\n",
       "      <td>JAMMU AND KASHMIR</td>\n",
       "      <td>Leh(Ladakh)</td>\n",
       "      <td>133487</td>\n",
       "      <td>78971</td>\n",
       "      <td>54516</td>\n",
       "      <td>93770</td>\n",
       "      <td>75079</td>\n",
       "      <td>53265</td>\n",
       "      <td>21814</td>\n",
       "      <td>...</td>\n",
       "      <td>658</td>\n",
       "      <td>1092</td>\n",
       "      <td>88635</td>\n",
       "      <td>103</td>\n",
       "      <td>16265</td>\n",
       "      <td>8923</td>\n",
       "      <td>6197</td>\n",
       "      <td>70703</td>\n",
       "      <td>41515</td>\n",
       "      <td>21019</td>\n",
       "    </tr>\n",
       "    <tr>\n",
       "      <th>3</th>\n",
       "      <td>4</td>\n",
       "      <td>JAMMU AND KASHMIR</td>\n",
       "      <td>Kargil</td>\n",
       "      <td>140802</td>\n",
       "      <td>77785</td>\n",
       "      <td>63017</td>\n",
       "      <td>86236</td>\n",
       "      <td>51873</td>\n",
       "      <td>39839</td>\n",
       "      <td>12034</td>\n",
       "      <td>...</td>\n",
       "      <td>604</td>\n",
       "      <td>1171</td>\n",
       "      <td>20126</td>\n",
       "      <td>28</td>\n",
       "      <td>16938</td>\n",
       "      <td>9826</td>\n",
       "      <td>3077</td>\n",
       "      <td>87532</td>\n",
       "      <td>35561</td>\n",
       "      <td>17488</td>\n",
       "    </tr>\n",
       "    <tr>\n",
       "      <th>4</th>\n",
       "      <td>5</td>\n",
       "      <td>JAMMU AND KASHMIR</td>\n",
       "      <td>Punch</td>\n",
       "      <td>476835</td>\n",
       "      <td>251899</td>\n",
       "      <td>224936</td>\n",
       "      <td>261724</td>\n",
       "      <td>161393</td>\n",
       "      <td>117677</td>\n",
       "      <td>43716</td>\n",
       "      <td>...</td>\n",
       "      <td>958</td>\n",
       "      <td>11188</td>\n",
       "      <td>83</td>\n",
       "      <td>10</td>\n",
       "      <td>46062</td>\n",
       "      <td>29517</td>\n",
       "      <td>13962</td>\n",
       "      <td>304979</td>\n",
       "      <td>109818</td>\n",
       "      <td>61334</td>\n",
       "    </tr>\n",
       "  </tbody>\n",
       "</table>\n",
       "<p>5 rows × 25 columns</p>\n",
       "</div>"
      ],
      "text/plain": [
       "   District_code         State_name District_name  Population    Male  Female  \\\n",
       "0              1  JAMMU AND KASHMIR       Kupwara      870354  474190  396164   \n",
       "1              2  JAMMU AND KASHMIR        Badgam      753745  398041  355704   \n",
       "2              3  JAMMU AND KASHMIR   Leh(Ladakh)      133487   78971   54516   \n",
       "3              4  JAMMU AND KASHMIR        Kargil      140802   77785   63017   \n",
       "4              5  JAMMU AND KASHMIR         Punch      476835  251899  224936   \n",
       "\n",
       "   Literate  Workers  Male_Workers  Female_Workers  ...  Christians  Sikhs  \\\n",
       "0    439654   229064        190899           38165  ...        1700   5600   \n",
       "1    335649   214866        162578           52288  ...        1489   5559   \n",
       "2     93770    75079         53265           21814  ...         658   1092   \n",
       "3     86236    51873         39839           12034  ...         604   1171   \n",
       "4    261724   161393        117677           43716  ...         958  11188   \n",
       "\n",
       "   Buddhists  Jains  Secondary_Education  Higher_Education  \\\n",
       "0         66     39                74948             39709   \n",
       "1         47      6                66459             41367   \n",
       "2      88635    103                16265              8923   \n",
       "3      20126     28                16938              9826   \n",
       "4         83     10                46062             29517   \n",
       "\n",
       "   Graduate_Education  Age_Group_0_29  Age_Group_30_49  Age_Group_50  \n",
       "0               21751          600759           178435         89679  \n",
       "1               27950          503223           160933         88978  \n",
       "2                6197           70703            41515         21019  \n",
       "3                3077           87532            35561         17488  \n",
       "4               13962          304979           109818         61334  \n",
       "\n",
       "[5 rows x 25 columns]"
      ]
     },
     "execution_count": 3,
     "metadata": {},
     "output_type": "execute_result"
    }
   ],
   "source": [
    "data.head()"
   ]
  },
  {
   "cell_type": "markdown",
   "metadata": {},
   "source": [
    "### 1. How will you hide the indexes of the data frame"
   ]
  },
  {
   "cell_type": "code",
   "execution_count": null,
   "metadata": {},
   "outputs": [
    {
     "ename": "AttributeError",
     "evalue": "'Styler' object has no attribute 'hide_index'",
     "output_type": "error",
     "traceback": [
      "\u001b[1;31m---------------------------------------------------------------------------\u001b[0m",
      "\u001b[1;31mAttributeError\u001b[0m                            Traceback (most recent call last)",
      "Cell \u001b[1;32mIn[4], line 1\u001b[0m\n\u001b[1;32m----> 1\u001b[0m styled_data \u001b[38;5;241m=\u001b[39m \u001b[43mdata\u001b[49m\u001b[38;5;241;43m.\u001b[39;49m\u001b[43mstyle\u001b[49m\u001b[38;5;241;43m.\u001b[39;49m\u001b[43mhide_index\u001b[49m()\n",
      "\u001b[1;31mAttributeError\u001b[0m: 'Styler' object has no attribute 'hide_index'"
     ]
    }
   ],
   "source": [
    "styled_data = data.style.hide_index()"
   ]
  },
  {
   "cell_type": "code",
   "execution_count": null,
   "metadata": {},
   "outputs": [
    {
     "data": {
      "text/plain": [
       "[False]"
      ]
     },
     "execution_count": 14,
     "metadata": {},
     "output_type": "execute_result"
    }
   ],
   "source": [
    "styled_data"
   ]
  },
  {
   "cell_type": "markdown",
   "metadata": {},
   "source": [
    "## 2. How can we set the heading/ caption of the dataframe"
   ]
  },
  {
   "cell_type": "code",
   "execution_count": null,
   "metadata": {},
   "outputs": [],
   "source": [
    "data.head()"
   ]
  },
  {
   "cell_type": "markdown",
   "metadata": {},
   "source": [
    "## 3. Show the records related with the districts: New Delhi, Lacknow, Jaipur."
   ]
  },
  {
   "cell_type": "markdown",
   "metadata": {},
   "source": [
    "## 4. Calculate Statewise:\n",
    "## A. Total number of population\n",
    "## B. Total number of population with different religions"
   ]
  },
  {
   "cell_type": "markdown",
   "metadata": {},
   "source": [
    "## 5. How many Male workers were there in Maharashtra state"
   ]
  },
  {
   "cell_type": "markdown",
   "metadata": {},
   "source": [
    "## 6. How to set a column as index of the dataframe"
   ]
  },
  {
   "cell_type": "markdown",
   "metadata": {},
   "source": [
    "## 7a. Add a suffix to the column names.\n",
    "## 7b. Add a prefix to the column names."
   ]
  }
 ],
 "metadata": {
  "kernelspec": {
   "display_name": "Python 3",
   "language": "python",
   "name": "python3"
  },
  "language_info": {
   "codemirror_mode": {
    "name": "ipython",
    "version": 3
   },
   "file_extension": ".py",
   "mimetype": "text/x-python",
   "name": "python",
   "nbconvert_exporter": "python",
   "pygments_lexer": "ipython3",
   "version": "3.12.4"
  }
 },
 "nbformat": 4,
 "nbformat_minor": 2
}

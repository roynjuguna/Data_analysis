{
 "cells": [
  {
   "cell_type": "markdown",
   "metadata": {},
   "source": [
    "# Working on real data with python\n",
    "## (A part of big data analysis)\n",
    "---\n",
    "## LONDON HOUSING DATASET\n",
    "---\n",
    "This dataset is primarily centered around the housing market of London. It contains a lot of additional relevant data\n",
    "* Monthly average houses prices\n",
    "* Yearly number of houses sold\n",
    "* Monthly number of crimes committed\n",
    "\n",
    "The data used here is from the year 1995 to 2019 of each different area\n",
    "\n",
    "The data is available as a csv file downloaded from kaggle.\n",
    "\n",
    "We will analyze this data using pandas.\n",
    "\n",
    "Here, random sets of questions which correct results are required."
   ]
  },
  {
   "cell_type": "markdown",
   "metadata": {},
   "source": [
    "## (A) Convert the datatype of \"Date\" column to Date-Time format."
   ]
  },
  {
   "cell_type": "markdown",
   "metadata": {},
   "source": [
    "## (B.1) Add a new column \"year\" in the dataframe, which contains years only"
   ]
  },
  {
   "cell_type": "markdown",
   "metadata": {},
   "source": [
    "## (B.2) Add a new column \"month as the 2nd column in the dataframe which contains years only."
   ]
  },
  {
   "cell_type": "markdown",
   "metadata": {},
   "source": [
    "## (C) Remove the columns \"year\" and \"month\" from the dataframe"
   ]
  },
  {
   "cell_type": "markdown",
   "metadata": {},
   "source": [
    " ## (D) Show all the records where \"No. of Crimes\" is 0. And how many such records are there?"
   ]
  },
  {
   "cell_type": "markdown",
   "metadata": {},
   "source": [
    "## (E) What is the minimum and maximum \"average_price\" per year in England"
   ]
  },
  {
   "cell_type": "markdown",
   "metadata": {},
   "source": [
    "## (F) What is the minimum and maximum number of crimes recorded per area?"
   ]
  },
  {
   "cell_type": "markdown",
   "metadata": {},
   "source": [
    "## (G) Show the total count of records of each area, where average prices is less than 100,000"
   ]
  }
 ],
 "metadata": {
  "language_info": {
   "name": "python"
  }
 },
 "nbformat": 4,
 "nbformat_minor": 2
}

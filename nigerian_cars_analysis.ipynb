{
 "cells": [
  {
   "cell_type": "markdown",
   "metadata": {},
   "source": [
    "# ANALYSIS OF CAR CRASHES IN NIGERIA"
   ]
  },
  {
   "cell_type": "markdown",
   "metadata": {},
   "source": [
    "## Overview:\n",
    "This dataset offers a detailed examination of road traffic crashes in Nigeria, covering the period from Q4 2020 to Q1 2024. It includes quarterly data on the total number of crashes, injuries, fatalities, and vehicles involved, along with key contributing factors such as speed violations, driving under the influence, and poor weather conditions.\n",
    "\n",
    "## Stake holders\n",
    "* Policy makers\n",
    "* Traffic safety analysts\n",
    "\n",
    "\n",
    "## Data source\n",
    "The data is sourced from official traffic records and provides insights into the factors influencing road safety in Nigeria.\n",
    "\n",
    "## Tools used for analysis\n",
    "* Python was used data cleaning \n",
    "* SQL was used for further analysis to analyze part of the data\n",
    "* Tableau was used for visualization\n",
    "\n",
    "\n",
    "## Features:\n",
    "#### Quarter\n",
    "Description: The quarter in which the data is recorded (e.g., Q4 2020, Q1 2021). This field serves as the temporal reference for the dataset.\n",
    "#### State\n",
    "Description: The Nigerian state where the traffic crashes occurred. This variable allows for regional analysis of crash data.\n",
    "#### Total Crashes\n",
    "Description: The total number of road traffic crashes reported per quarter for each state.\n",
    "#### Number Injured\n",
    "Description: The total number of individuals injured in road traffic crashes per quarter. This metric indicates the severity of the crashes.\n",
    "#### Number Killed\n",
    "Description: The total number of fatalities resulting from road traffic crashes per quarter.\n",
    "#### Total Vehicles Involved\n",
    "Description: The total number of vehicles involved in the crashes per quarter. This variable can be used to analyze traffic volume and crash rates.\n",
    "#### Speed Violation (SPV)\n",
    "Description: The number of crashes attributed to speed violations. This factor is critical in understanding the role of speeding in road traffic crashes.\n",
    "#### Driving Under Alcohol/Drug Influence (DAD)\n",
    "Description: The number of crashes where driving under the influence of alcohol or drugs was a contributing factor.\n",
    "#### Poor Weather (PWR)\n",
    "Description: The number of crashes that occurred under poor weather conditions, providing insights into weather-related risks.\n",
    "#### Fatigue (FTQ)\n",
    "Description: The number of crashes attributed to driver fatigue. This variable highlights the impact of driver alertness on road safety."
   ]
  },
  {
   "cell_type": "markdown",
   "metadata": {},
   "source": [
    "## Case study\n",
    "\n",
    "The following questions will guide my analysis\n",
    "* Which state has the highest number of car crashes\n",
    "* What is the trend of car crashes over time\n",
    "* Which are the top causes of car crashes in Nigeria\n",
    "* Which periods of the year have high numbers of car crashes"
   ]
  },
  {
   "cell_type": "markdown",
   "metadata": {},
   "source": [
    "## Below are the SQL queries, python code and visualizations after analysis of the dataset"
   ]
  },
  {
   "cell_type": "markdown",
   "metadata": {},
   "source": [
    "Import libraries to be used in the analysis"
   ]
  },
  {
   "cell_type": "code",
   "execution_count": 1,
   "metadata": {},
   "outputs": [],
   "source": [
    "import pandas as pd"
   ]
  },
  {
   "cell_type": "markdown",
   "metadata": {},
   "source": [
    "Load the data from the csv file"
   ]
  },
  {
   "cell_type": "code",
   "execution_count": 2,
   "metadata": {},
   "outputs": [],
   "source": [
    "data = pd.read_csv('Nigerian_Road_Traffic_Crashes_2020_2024.csv')"
   ]
  },
  {
   "cell_type": "markdown",
   "metadata": {},
   "source": [
    "### Getting some basic information about the dataset\n",
    "\n",
    "### 1. head()"
   ]
  },
  {
   "cell_type": "code",
   "execution_count": 3,
   "metadata": {},
   "outputs": [
    {
     "data": {
      "text/html": [
       "<div>\n",
       "<style scoped>\n",
       "    .dataframe tbody tr th:only-of-type {\n",
       "        vertical-align: middle;\n",
       "    }\n",
       "\n",
       "    .dataframe tbody tr th {\n",
       "        vertical-align: top;\n",
       "    }\n",
       "\n",
       "    .dataframe thead th {\n",
       "        text-align: right;\n",
       "    }\n",
       "</style>\n",
       "<table border=\"1\" class=\"dataframe\">\n",
       "  <thead>\n",
       "    <tr style=\"text-align: right;\">\n",
       "      <th></th>\n",
       "      <th>Quarter</th>\n",
       "      <th>State</th>\n",
       "      <th>Total_Crashes</th>\n",
       "      <th>Num_Injured</th>\n",
       "      <th>Num_Killed</th>\n",
       "      <th>Total_Vehicles_Involved</th>\n",
       "      <th>SPV</th>\n",
       "      <th>DAD</th>\n",
       "      <th>PWR</th>\n",
       "      <th>FTQ</th>\n",
       "      <th>Other_Factors</th>\n",
       "    </tr>\n",
       "  </thead>\n",
       "  <tbody>\n",
       "    <tr>\n",
       "      <th>0</th>\n",
       "      <td>Q4 2020</td>\n",
       "      <td>Abia</td>\n",
       "      <td>30</td>\n",
       "      <td>146</td>\n",
       "      <td>31</td>\n",
       "      <td>37</td>\n",
       "      <td>19</td>\n",
       "      <td>0</td>\n",
       "      <td>0</td>\n",
       "      <td>0</td>\n",
       "      <td>18</td>\n",
       "    </tr>\n",
       "    <tr>\n",
       "      <th>1</th>\n",
       "      <td>Q4 2020</td>\n",
       "      <td>Adamawa</td>\n",
       "      <td>77</td>\n",
       "      <td>234</td>\n",
       "      <td>36</td>\n",
       "      <td>94</td>\n",
       "      <td>57</td>\n",
       "      <td>0</td>\n",
       "      <td>0</td>\n",
       "      <td>0</td>\n",
       "      <td>37</td>\n",
       "    </tr>\n",
       "  </tbody>\n",
       "</table>\n",
       "</div>"
      ],
      "text/plain": [
       "   Quarter    State  Total_Crashes  Num_Injured  Num_Killed  \\\n",
       "0  Q4 2020     Abia             30          146          31   \n",
       "1  Q4 2020  Adamawa             77          234          36   \n",
       "\n",
       "   Total_Vehicles_Involved  SPV  DAD  PWR  FTQ  Other_Factors  \n",
       "0                       37   19    0    0    0             18  \n",
       "1                       94   57    0    0    0             37  "
      ]
     },
     "execution_count": 3,
     "metadata": {},
     "output_type": "execute_result"
    }
   ],
   "source": [
    "data.head(2)"
   ]
  },
  {
   "cell_type": "markdown",
   "metadata": {},
   "source": [
    "### 2. tail()"
   ]
  },
  {
   "cell_type": "code",
   "execution_count": 4,
   "metadata": {},
   "outputs": [
    {
     "data": {
      "text/html": [
       "<div>\n",
       "<style scoped>\n",
       "    .dataframe tbody tr th:only-of-type {\n",
       "        vertical-align: middle;\n",
       "    }\n",
       "\n",
       "    .dataframe tbody tr th {\n",
       "        vertical-align: top;\n",
       "    }\n",
       "\n",
       "    .dataframe thead th {\n",
       "        text-align: right;\n",
       "    }\n",
       "</style>\n",
       "<table border=\"1\" class=\"dataframe\">\n",
       "  <thead>\n",
       "    <tr style=\"text-align: right;\">\n",
       "      <th></th>\n",
       "      <th>Quarter</th>\n",
       "      <th>State</th>\n",
       "      <th>Total_Crashes</th>\n",
       "      <th>Num_Injured</th>\n",
       "      <th>Num_Killed</th>\n",
       "      <th>Total_Vehicles_Involved</th>\n",
       "      <th>SPV</th>\n",
       "      <th>DAD</th>\n",
       "      <th>PWR</th>\n",
       "      <th>FTQ</th>\n",
       "      <th>Other_Factors</th>\n",
       "    </tr>\n",
       "  </thead>\n",
       "  <tbody>\n",
       "    <tr>\n",
       "      <th>516</th>\n",
       "      <td>Q1 2024</td>\n",
       "      <td>Yobe</td>\n",
       "      <td>39</td>\n",
       "      <td>234</td>\n",
       "      <td>13</td>\n",
       "      <td>55</td>\n",
       "      <td>38</td>\n",
       "      <td>0</td>\n",
       "      <td>0</td>\n",
       "      <td>0</td>\n",
       "      <td>17</td>\n",
       "    </tr>\n",
       "    <tr>\n",
       "      <th>517</th>\n",
       "      <td>Q1 2024</td>\n",
       "      <td>Zamfara</td>\n",
       "      <td>13</td>\n",
       "      <td>61</td>\n",
       "      <td>14</td>\n",
       "      <td>16</td>\n",
       "      <td>14</td>\n",
       "      <td>0</td>\n",
       "      <td>0</td>\n",
       "      <td>0</td>\n",
       "      <td>2</td>\n",
       "    </tr>\n",
       "  </tbody>\n",
       "</table>\n",
       "</div>"
      ],
      "text/plain": [
       "     Quarter    State  Total_Crashes  Num_Injured  Num_Killed  \\\n",
       "516  Q1 2024     Yobe             39          234          13   \n",
       "517  Q1 2024  Zamfara             13           61          14   \n",
       "\n",
       "     Total_Vehicles_Involved  SPV  DAD  PWR  FTQ  Other_Factors  \n",
       "516                       55   38    0    0    0             17  \n",
       "517                       16   14    0    0    0              2  "
      ]
     },
     "execution_count": 4,
     "metadata": {},
     "output_type": "execute_result"
    }
   ],
   "source": [
    "data.tail(2)"
   ]
  },
  {
   "cell_type": "markdown",
   "metadata": {},
   "source": [
    "### 3. shape"
   ]
  },
  {
   "cell_type": "code",
   "execution_count": 5,
   "metadata": {},
   "outputs": [
    {
     "data": {
      "text/plain": [
       "(518, 11)"
      ]
     },
     "execution_count": 5,
     "metadata": {},
     "output_type": "execute_result"
    }
   ],
   "source": [
    "data.shape"
   ]
  },
  {
   "cell_type": "markdown",
   "metadata": {},
   "source": [
    "### 4. size"
   ]
  },
  {
   "cell_type": "code",
   "execution_count": 6,
   "metadata": {},
   "outputs": [
    {
     "data": {
      "text/plain": [
       "5698"
      ]
     },
     "execution_count": 6,
     "metadata": {},
     "output_type": "execute_result"
    }
   ],
   "source": [
    "data.size"
   ]
  },
  {
   "cell_type": "markdown",
   "metadata": {},
   "source": [
    "### 5. columns"
   ]
  },
  {
   "cell_type": "code",
   "execution_count": 7,
   "metadata": {},
   "outputs": [
    {
     "data": {
      "text/plain": [
       "Index(['Quarter', 'State', 'Total_Crashes', 'Num_Injured', 'Num_Killed',\n",
       "       'Total_Vehicles_Involved', 'SPV', 'DAD', 'PWR', 'FTQ', 'Other_Factors'],\n",
       "      dtype='object')"
      ]
     },
     "execution_count": 7,
     "metadata": {},
     "output_type": "execute_result"
    }
   ],
   "source": [
    "data.columns"
   ]
  },
  {
   "cell_type": "markdown",
   "metadata": {},
   "source": [
    "### 6. data types"
   ]
  },
  {
   "cell_type": "code",
   "execution_count": 8,
   "metadata": {},
   "outputs": [
    {
     "data": {
      "text/plain": [
       "Quarter                    object\n",
       "State                      object\n",
       "Total_Crashes               int64\n",
       "Num_Injured                 int64\n",
       "Num_Killed                  int64\n",
       "Total_Vehicles_Involved     int64\n",
       "SPV                         int64\n",
       "DAD                         int64\n",
       "PWR                         int64\n",
       "FTQ                         int64\n",
       "Other_Factors               int64\n",
       "dtype: object"
      ]
     },
     "execution_count": 8,
     "metadata": {},
     "output_type": "execute_result"
    }
   ],
   "source": [
    "data.dtypes"
   ]
  },
  {
   "cell_type": "markdown",
   "metadata": {},
   "source": [
    "### 7. info()"
   ]
  },
  {
   "cell_type": "code",
   "execution_count": 9,
   "metadata": {},
   "outputs": [
    {
     "name": "stdout",
     "output_type": "stream",
     "text": [
      "<class 'pandas.core.frame.DataFrame'>\n",
      "RangeIndex: 518 entries, 0 to 517\n",
      "Data columns (total 11 columns):\n",
      " #   Column                   Non-Null Count  Dtype \n",
      "---  ------                   --------------  ----- \n",
      " 0   Quarter                  518 non-null    object\n",
      " 1   State                    518 non-null    object\n",
      " 2   Total_Crashes            518 non-null    int64 \n",
      " 3   Num_Injured              518 non-null    int64 \n",
      " 4   Num_Killed               518 non-null    int64 \n",
      " 5   Total_Vehicles_Involved  518 non-null    int64 \n",
      " 6   SPV                      518 non-null    int64 \n",
      " 7   DAD                      518 non-null    int64 \n",
      " 8   PWR                      518 non-null    int64 \n",
      " 9   FTQ                      518 non-null    int64 \n",
      " 10  Other_Factors            518 non-null    int64 \n",
      "dtypes: int64(9), object(2)\n",
      "memory usage: 44.6+ KB\n"
     ]
    }
   ],
   "source": [
    "data.info()"
   ]
  },
  {
   "cell_type": "markdown",
   "metadata": {},
   "source": [
    "###  Are there any duplicate records in the dataset? If yes, then remove the duplicate records."
   ]
  },
  {
   "cell_type": "code",
   "execution_count": 13,
   "metadata": {},
   "outputs": [
    {
     "data": {
      "text/plain": [
       "Quarter                    0\n",
       "State                      0\n",
       "Total_Crashes              0\n",
       "Num_Injured                0\n",
       "Num_Killed                 0\n",
       "Total_Vehicles_Involved    0\n",
       "SPV                        0\n",
       "DAD                        0\n",
       "PWR                        0\n",
       "FTQ                        0\n",
       "Other_Factors              0\n",
       "dtype: object"
      ]
     },
     "execution_count": 13,
     "metadata": {},
     "output_type": "execute_result"
    }
   ],
   "source": [
    "data[data.duplicated()].sum()"
   ]
  },
  {
   "cell_type": "markdown",
   "metadata": {},
   "source": [
    "From the above output, there are no duplicated records in our data"
   ]
  },
  {
   "cell_type": "markdown",
   "metadata": {},
   "source": [
    "### Are there any NULL values present in any columns? Show with heat-map."
   ]
  },
  {
   "cell_type": "code",
   "execution_count": 14,
   "metadata": {},
   "outputs": [
    {
     "data": {
      "text/plain": [
       "Quarter                    0\n",
       "State                      0\n",
       "Total_Crashes              0\n",
       "Num_Injured                0\n",
       "Num_Killed                 0\n",
       "Total_Vehicles_Involved    0\n",
       "SPV                        0\n",
       "DAD                        0\n",
       "PWR                        0\n",
       "FTQ                        0\n",
       "Other_Factors              0\n",
       "dtype: int64"
      ]
     },
     "execution_count": 14,
     "metadata": {},
     "output_type": "execute_result"
    }
   ],
   "source": [
    "data.isnull().sum()"
   ]
  },
  {
   "cell_type": "markdown",
   "metadata": {},
   "source": [
    "From the above output, there are no NULL records in our data"
   ]
  },
  {
   "cell_type": "markdown",
   "metadata": {},
   "source": [
    "## Below are SQL queries to get the tables required for visualization in tableau"
   ]
  },
  {
   "cell_type": "code",
   "execution_count": null,
   "metadata": {
    "vscode": {
     "languageId": "sql"
    }
   },
   "outputs": [],
   "source": [
    "-- This is to get a quick overview of the data\n",
    "select * from nigerian_car_crashes.traffic_crashes"
   ]
  },
  {
   "cell_type": "code",
   "execution_count": null,
   "metadata": {
    "vscode": {
     "languageId": "sql"
    }
   },
   "outputs": [],
   "source": [
    "-- This is to view the columns in our dataset\n",
    "show columns in nigerian_car_crashes.traffic_crashes;"
   ]
  },
  {
   "cell_type": "markdown",
   "metadata": {},
   "source": [
    "### Crashes per state"
   ]
  },
  {
   "cell_type": "code",
   "execution_count": null,
   "metadata": {
    "vscode": {
     "languageId": "sql"
    }
   },
   "outputs": [],
   "source": [
    "-- crashes per state\n",
    "select State , sum(Total_Crashes) as crashes_per_state\n",
    "from nigerian_car_crashes.traffic_crashes\n",
    "group by State\n",
    "order by crashes_per_state  desc;"
   ]
  },
  {
   "cell_type": "markdown",
   "metadata": {},
   "source": [
    "![alt text](crashes_per_state.png)"
   ]
  },
  {
   "cell_type": "markdown",
   "metadata": {},
   "source": [
    "### Crashes per quarter"
   ]
  },
  {
   "cell_type": "code",
   "execution_count": null,
   "metadata": {
    "vscode": {
     "languageId": "sql"
    }
   },
   "outputs": [],
   "source": [
    "-- crashes per quarter\n",
    "select Quarter, sum(Total_Crashes) as crashes_per_quarter\n",
    "from nigerian_car_crashes.traffic_crashes\n",
    "group by Quarter\n",
    "order by crashes_per_quarter;"
   ]
  },
  {
   "cell_type": "markdown",
   "metadata": {},
   "source": [
    "![crashes per state](crashes_per_quarter.png)"
   ]
  },
  {
   "cell_type": "markdown",
   "metadata": {},
   "source": [
    "### Fatalities per state"
   ]
  },
  {
   "cell_type": "code",
   "execution_count": null,
   "metadata": {
    "vscode": {
     "languageId": "sql"
    }
   },
   "outputs": [],
   "source": [
    "-- fatalities per state\n",
    "select State , sum(Num_Killed) as fatalities_per_state\n",
    "from nigerian_car_crashes.traffic_crashes\n",
    "group by State\n",
    "order by fatalities_per_state desc;"
   ]
  },
  {
   "cell_type": "markdown",
   "metadata": {},
   "source": [
    "![alt text](fatalities_per_state2.png)"
   ]
  },
  {
   "cell_type": "markdown",
   "metadata": {},
   "source": [
    "### Injuries per state"
   ]
  },
  {
   "cell_type": "code",
   "execution_count": null,
   "metadata": {
    "vscode": {
     "languageId": "sql"
    }
   },
   "outputs": [],
   "source": [
    "-- injuries per state\n",
    "select State , sum(Num_Injured) as injuries_per_state\n",
    "from nigerian_car_crashes.traffic_crashes\n",
    "group by State\n",
    "order by injuries_per_state desc;"
   ]
  },
  {
   "cell_type": "markdown",
   "metadata": {},
   "source": [
    "![alt text](<injuries per state2.png>)"
   ]
  },
  {
   "cell_type": "markdown",
   "metadata": {},
   "source": [
    "### Trend of crashes over time"
   ]
  },
  {
   "cell_type": "code",
   "execution_count": null,
   "metadata": {
    "vscode": {
     "languageId": "sql"
    }
   },
   "outputs": [],
   "source": [
    "-- Trend Analysis Over Time\n",
    "SELECT Quarter, SUM(Total_Crashes) AS total_crashes, SUM(Num_Killed) AS total_deaths\n",
    "FROM nigerian_car_crashes.traffic_crashes\n",
    "GROUP BY Quarter\n",
    "ORDER BY Quarter;"
   ]
  },
  {
   "cell_type": "markdown",
   "metadata": {},
   "source": [
    "![alt text](crashes_trend.png)"
   ]
  },
  {
   "cell_type": "markdown",
   "metadata": {},
   "source": [
    "### Number of  crashes quarterly"
   ]
  },
  {
   "cell_type": "code",
   "execution_count": null,
   "metadata": {
    "vscode": {
     "languageId": "sql"
    }
   },
   "outputs": [],
   "source": [
    "-- To show total crashes for grouped quarters\n",
    "\n",
    "select \n",
    "case when Quarter like '%Q1%'  then 'Q1'\n",
    "     when Quarter like '%Q2%'  then 'Q2'\n",
    "     when Quarter like '%Q3%'  then 'Q3'\n",
    "     when Quarter like '%Q4%'  then 'Q4'\n",
    "     else 'Unknown_Quarter'\n",
    "     end as Specific_Quarter,\n",
    "     sum(Total_Crashes)\n",
    "\n",
    "from nigerian_car_crashes.traffic_crashes  \n",
    "group by Specific_Quarter;\n",
    "\n"
   ]
  },
  {
   "cell_type": "markdown",
   "metadata": {},
   "source": [
    "![alt text](pie_chart_crashes_per_quarter.png)"
   ]
  },
  {
   "cell_type": "markdown",
   "metadata": {},
   "source": [
    "### Car crashes causes"
   ]
  },
  {
   "cell_type": "code",
   "execution_count": null,
   "metadata": {
    "vscode": {
     "languageId": "sql"
    }
   },
   "outputs": [],
   "source": [
    "-- Car crash causes\n",
    "select sum(SPV) as speeding, sum(DAD) as drunk_driving, sum(PWR) as poor_weather,\n",
    " sum(FTQ) as fatigue, sum(Other_Factors) as other_factors\n",
    "from nigerian_car_crashes.traffic_crashes;"
   ]
  },
  {
   "cell_type": "markdown",
   "metadata": {},
   "source": [
    "![alt text](crashes_cause.png)"
   ]
  },
  {
   "cell_type": "markdown",
   "metadata": {},
   "source": [
    "## Key Takeaways\n",
    "* FCT state and Kaduna have the highest number of car crashes\n",
    "* Kaduna state has the highest number of fatalities and injuries\n",
    "* The 4th and 1st quarters have the highest number of car crashes\n",
    "* Speeding caused the highest number of car crashes\n",
    "* Car crashes seem to be reducing over time\n",
    "\n",
    "## Recommendations\n",
    "1. **FCT and Kaduna State**: High Number of Car Crashes\n",
    "Recommendation: Improve Road Safety Infrastructure\n",
    "FCT and Kaduna State: Focus on upgrading road safety infrastructure in these regions. This could include installing more traffic lights, improving road signs, and enhancing street lighting to reduce accidents, especially in high-risk areas.\n",
    "Increased Law Enforcement: Strengthen traffic law enforcement, particularly in accident-prone areas, to ensure compliance with road safety regulations.\n",
    "\n",
    "2. **Kaduna State**: Highest Number of Fatalities and Injuries\n",
    "Recommendation: Emergency Response Enhancements\n",
    "Rapid Response Services: Improve emergency response services, including quicker ambulance dispatch and better-equipped hospitals to handle trauma cases. This could potentially reduce the severity of injuries and fatalities.\n",
    "Public Awareness Campaigns: Launch campaigns focused on the importance of using seatbelts, helmets, and other safety gear, which can significantly reduce the impact of accidents.\n",
    "\n",
    "3. **1st and 4th Quarters**: High Number of Car Crashes\n",
    "Recommendation: Seasonal Road Safety Measures\n",
    "Targeted Safety Campaigns: Implement road safety awareness campaigns before and during the 1st and 4th quarters, focusing on the specific risks associated with these periods (e.g., festive seasons, end-of-year rush).\n",
    "Enhanced Traffic Management: Increase the presence of traffic officers during these quarters to manage congestion and enforce road safety laws. Implement temporary measures such as speed limits in high-risk areas during these periods.\n",
    "\n",
    "4. **Speeding**: Leading Cause of Car Crashes\n",
    "Recommendation: Speed Control Measures\n",
    "Speed Cameras and Radar: Install speed cameras and use radar guns to monitor and penalize speeding drivers, particularly in areas with a high incidence of crashes.\n",
    "Speed Bumps and Reduced Speed Limits: Introduce speed bumps and lower speed limits in residential areas, school zones, and other high-risk areas to reduce the likelihood of speeding.\n",
    "Driver Education: Launch educational programs targeting drivers, highlighting the dangers of speeding and promoting adherence to speed limits.\n",
    "Summary of Implementation Strategy:\n",
    "Short-Term: Begin with targeted public awareness campaigns and enhanced law enforcement during high-risk quarters and in FCT and Kaduna.\n",
    "Medium-Term: Invest in speed control infrastructure and improve emergency response services, particularly in Kaduna, where the impact of crashes is most severe.\n",
    "Long-Term: Continuously assess the effectiveness of these interventions and adjust strategies accordingly, ensuring sustained reductions in car crashes, fatalities, and injuries.\n"
   ]
  },
  {
   "cell_type": "markdown",
   "metadata": {},
   "source": [
    "## Things to consider\n",
    "\n",
    "When considering the recommendations you’ve outlined, here are the key variables and factors to take into account for each strategy:\n",
    "\n",
    "### 1. **FCT and Kaduna State: High Number of Car Crashes**\n",
    "**Recommendation: Improve Road Safety Infrastructure**\n",
    "   - **Variables to Consider:**\n",
    "     - **Accident Hotspots:** Identify and map locations with the highest accident rates within FCT and Kaduna (e.g., intersections, highways, urban vs. rural roads).\n",
    "     - **Road Conditions:** Assess the current state of road infrastructure, including the presence of potholes, road markings, and signage quality.\n",
    "     - **Traffic Volume:** Analyze traffic density and patterns in different areas, as high-traffic zones may require more infrastructure upgrades.\n",
    "     - **Existing Traffic Control Measures:** Evaluate the current traffic control measures (traffic lights, signs, speed bumps) to identify gaps and inefficiencies.\n",
    "     - **Lighting Conditions:** Measure the adequacy of street lighting, particularly in areas with frequent nighttime accidents.\n",
    "     - **Law Enforcement Data:** Review traffic violation records to understand the common types of infractions in these areas.\n",
    "\n",
    "**Recommendation: Increased Law Enforcement**\n",
    "   - **Variables to Consider:**\n",
    "     - **Resource Allocation:** Determine the availability and distribution of traffic law enforcement officers in high-risk areas.\n",
    "     - **Response Times:** Measure the response times of law enforcement to accidents and traffic violations.\n",
    "     - **Enforcement Technologies:** Assess the current use of technology (e.g., speed cameras, breathalyzers) in traffic enforcement.\n",
    "     - **Public Compliance:** Monitor public compliance with traffic laws and the impact of enforcement on reducing accidents.\n",
    "\n",
    "### 2. **Kaduna State: Highest Number of Fatalities and Injuries**\n",
    "**Recommendation: Emergency Response Enhancements**\n",
    "   - **Variables to Consider:**\n",
    "     - **Emergency Response Time:** Analyze the time taken from the occurrence of an accident to the arrival of emergency services.\n",
    "     - **Accessibility of Healthcare Facilities:** Evaluate the proximity of trauma centers and hospitals to accident-prone areas.\n",
    "     - **Ambulance Availability:** Consider the number and distribution of ambulances and their ability to respond quickly to accidents.\n",
    "     - **Equipment and Training:** Assess the equipment and training levels of emergency response teams, focusing on trauma care.\n",
    "     - **Mortality and Injury Rates:** Study the correlation between response times and mortality/injury rates to identify critical intervention points.\n",
    "\n",
    "**Recommendation: Public Awareness Campaigns**\n",
    "   - **Variables to Consider:**\n",
    "     - **Demographic Data:** Identify the target demographics most affected by accidents (e.g., young drivers, motorcyclists).\n",
    "     - **Current Awareness Levels:** Conduct surveys or use existing data to gauge public awareness of road safety measures.\n",
    "     - **Campaign Reach:** Measure the effectiveness of past public awareness campaigns in reaching and influencing the target audience.\n",
    "     - **Behavioral Change:** Monitor changes in driver behavior (e.g., seatbelt usage, helmet wearing) as a result of awareness campaigns.\n",
    "\n",
    "### 3. **1st and 4th Quarters: High Number of Car Crashes**\n",
    "**Recommendation: Seasonal Road Safety Measures**\n",
    "   - **Variables to Consider:**\n",
    "     - **Seasonal Traffic Patterns:** Analyze traffic volume trends during the 1st and 4th quarters, particularly around holidays and festive seasons.\n",
    "     - **Weather Conditions:** Consider the impact of weather (e.g., harmattan dust, rainfall) on road safety during these quarters.\n",
    "     - **Event-Driven Traffic:** Identify major events (e.g., religious festivals, public holidays) that contribute to higher traffic and accident rates.\n",
    "     - **Campaign Timing:** Optimize the timing of road safety campaigns to precede peak accident periods.\n",
    "     - **Law Enforcement Deployment:** Review the deployment of traffic officers and their impact during these high-risk quarters.\n",
    "\n",
    "**Recommendation: Enhanced Traffic Management**\n",
    "   - **Variables to Consider:**\n",
    "     - **Traffic Flow Analysis:** Study traffic flow and congestion patterns during peak periods in high-risk areas.\n",
    "     - **Temporary Traffic Measures:** Evaluate the effectiveness of temporary measures such as speed limits and road closures during peak periods.\n",
    "     - **Public Compliance:** Monitor public adherence to temporary traffic measures and the resulting impact on accident rates.\n",
    "\n",
    "### 4. **Speeding: Leading Cause of Car Crashes**\n",
    "**Recommendation: Speed Control Measures**\n",
    "   - **Variables to Consider:**\n",
    "     - **Speeding Hotspots:** Identify locations with the highest incidences of speeding and correlate with accident data.\n",
    "     - **Effectiveness of Speed Cameras:** Analyze the effectiveness of existing speed cameras in reducing speeding and accidents.\n",
    "     - **Driver Demographics:** Consider the age, gender, and driving experience of individuals most likely to speed.\n",
    "     - **Road Design:** Assess whether road design encourages or discourages speeding (e.g., long straight stretches vs. curved roads).\n",
    "     - **Public Perception:** Gauge public perception and acceptance of speed control measures like cameras and speed bumps.\n",
    "\n",
    "**Recommendation: Driver Education**\n",
    "   - **Variables to Consider:**\n",
    "     - **Target Audience:** Identify high-risk groups (e.g., young drivers, commercial drivers) for targeted education.\n",
    "     - **Current Knowledge Levels:** Survey drivers to understand their current knowledge and attitudes toward speeding and road safety.\n",
    "     - **Education Delivery Methods:** Evaluate the effectiveness of different educational approaches (e.g., workshops, media campaigns, school programs).\n",
    "     - **Behavioral Impact:** Monitor changes in driving behavior as a result of education programs.\n",
    "\n",
    "### **Summary of Data Considerations:**\n",
    "- **Geospatial Data:** For mapping accident hotspots and infrastructure needs.\n",
    "- **Traffic Volume and Patterns:** For understanding where and when interventions are needed.\n",
    "- **Demographic Data:** To tailor public awareness campaigns and driver education programs.\n",
    "- **Healthcare Access and Response Times:** For improving emergency response services.\n",
    "- **Weather and Seasonal Data:** To inform seasonal safety campaigns.\n",
    "- **Enforcement and Compliance Data:** To assess the effectiveness of law enforcement and public adherence to traffic laws. \n",
    "\n",
    "These variables will help  to design more targeted and effective interventions based on the specific conditions and risks in each region."
   ]
  }
 ],
 "metadata": {
  "kernelspec": {
   "display_name": "Python 3",
   "language": "python",
   "name": "python3"
  },
  "language_info": {
   "codemirror_mode": {
    "name": "ipython",
    "version": 3
   },
   "file_extension": ".py",
   "mimetype": "text/x-python",
   "name": "python",
   "nbconvert_exporter": "python",
   "pygments_lexer": "ipython3",
   "version": "3.12.4"
  }
 },
 "nbformat": 4,
 "nbformat_minor": 2
}
